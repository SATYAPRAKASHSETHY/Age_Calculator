{
 "cells": [
  {
   "cell_type": "code",
   "execution_count": 3,
   "id": "e54944f8",
   "metadata": {},
   "outputs": [],
   "source": [
    "from tkinter import *\n",
    "from datetime import date\n",
    "\n",
    "window = Tk()\n",
    "window.geometry('510x300')\n",
    "window.title(\"Age Calculator\")\n",
    "\n",
    "def calculateAge():\n",
    "    today = date.today()\n",
    "    birth_date = date(int(year_entry.get()), int(month_entry.get()), int(day_entry.get()))\n",
    "    age= today.year - birth_date.year - ((today.month, today.day) < (birth_date.month, birth_date.day))\n",
    "    \n",
    "    Label(text=f\"Hi {name_value.get()}! your age is: {age}\", font=(\"Arial Bold\", 15)).grid(row=6, column=1)\n",
    "\n",
    "def clearAll():\n",
    "    name_entry.delete(0,END)\n",
    "    year_entry.delete(0,END)\n",
    "    month_entry.delete(0, END)\n",
    "    day_entry.delete(0,END)\n",
    "    \n",
    "\n",
    "Label(text=\"Name\", font=(\"Arial Bold\", 15)).grid(row= 1, column= 0, padx=50)\n",
    "Label(text=\"Year\", font=(\"Arial Bold\", 15)).grid(row= 2, column= 0, padx=50)\n",
    "Label(text=\"Month\", font=(\"Arial Bold\", 15)).grid(row= 3, column= 0, padx=50)\n",
    "Label(text=\"Day\", font=(\"Arial Bold\", 15)).grid(row= 4, column= 0, padx=50)\n",
    "\n",
    "# a text variable to store the data what ever entered in entry field.\n",
    "name_value = StringVar()\n",
    "year_value = StringVar()\n",
    "month_value = StringVar()\n",
    "day_value = StringVar()\n",
    "\n",
    "name_entry = Entry(window, textvariable = name_value)\n",
    "year_entry = Entry(window, textvariable = year_value)\n",
    "month_entry = Entry(window, textvariable = month_value)\n",
    "day_entry = Entry(window, textvariable = day_value)\n",
    "\n",
    "name_entry.grid(row = 1, column = 1, pady = 5)\n",
    "year_entry.grid(row = 2, column = 1, pady = 5)\n",
    "month_entry.grid(row = 3, column = 1, pady = 5)\n",
    "day_entry.grid(row = 4, column = 1, pady = 5)\n",
    "\n",
    "\n",
    "button = Button(text='Calculate Age', font=(\"Arial Bold\", 15), fg='white', bg='#21130d', command=calculateAge)\n",
    "button.grid(row=5, column=1, pady=5)\n",
    "\n",
    "clear = Button(text='Clear All', font=(\"Arial Bold\", 15), fg='white', bg='#21130d', command=clearAll)\n",
    "clear.grid(row=5, column=2, pady=5)\n",
    "\n",
    "\n",
    "window.mainloop()"
   ]
  },
  {
   "cell_type": "code",
   "execution_count": null,
   "id": "9ce64790",
   "metadata": {},
   "outputs": [],
   "source": []
  },
  {
   "cell_type": "code",
   "execution_count": null,
   "id": "3747ed7e",
   "metadata": {},
   "outputs": [],
   "source": []
  }
 ],
 "metadata": {
  "kernelspec": {
   "display_name": "Python 3 (ipykernel)",
   "language": "python",
   "name": "python3"
  },
  "language_info": {
   "codemirror_mode": {
    "name": "ipython",
    "version": 3
   },
   "file_extension": ".py",
   "mimetype": "text/x-python",
   "name": "python",
   "nbconvert_exporter": "python",
   "pygments_lexer": "ipython3",
   "version": "3.9.13"
  }
 },
 "nbformat": 4,
 "nbformat_minor": 5
}
